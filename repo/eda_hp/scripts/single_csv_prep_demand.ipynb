{
 "cells": [
  {
   "cell_type": "code",
   "execution_count": 23,
   "metadata": {},
   "outputs": [],
   "source": [
    "import pandas as pd\n",
    "import numpy as np\n",
    "import os"
   ]
  },
  {
   "cell_type": "code",
   "execution_count": 24,
   "metadata": {},
   "outputs": [],
   "source": [
    "budget_expenditure = pd.read_csv('../datasets/june_budget_expenditure/budget_expenditures_20190601.csv')"
   ]
  },
  {
   "cell_type": "code",
   "execution_count": 25,
   "metadata": {},
   "outputs": [],
   "source": [
    "budget_test = pd.read_csv('../datasets/june_budget_expenditure/budget_expenditures_20190601.csv')"
   ]
  },
  {
   "cell_type": "code",
   "execution_count": 25,
   "metadata": {},
   "outputs": [],
   "source": [
    "budget_expenditure.replace(\" \", np.NaN, inplace = True)"
   ]
  },
  {
   "cell_type": "code",
   "execution_count": 26,
   "metadata": {},
   "outputs": [],
   "source": [
    "budget_expenditure.fillna(method='ffill', inplace=True)"
   ]
  },
  {
   "cell_type": "code",
   "execution_count": 27,
   "metadata": {},
   "outputs": [],
   "source": [
    "budget_expenditure = budget_expenditure[~budget_expenditure.Dmdcd.str.contains(\"Total\")]"
   ]
  },
  {
   "cell_type": "code",
   "execution_count": 28,
   "metadata": {},
   "outputs": [],
   "source": [
    "budget_expenditure = budget_expenditure[~budget_expenditure.Majnm.str.contains(\"Total\")]"
   ]
  },
  {
   "cell_type": "code",
   "execution_count": 29,
   "metadata": {},
   "outputs": [],
   "source": [
    "budget_expenditure = budget_expenditure[~budget_expenditure.SoeCd.str.contains(\"Total\")]"
   ]
  },
  {
   "cell_type": "code",
   "execution_count": 30,
   "metadata": {
    "scrolled": true
   },
   "outputs": [],
   "source": [
    "budget_expenditure[['Major_Head_Code', 'Major_Head_Description']] = budget_expenditure['Majnm'].str.split(r\"-\", expand=True, n=1)"
   ]
  },
  {
   "cell_type": "code",
   "execution_count": 31,
   "metadata": {},
   "outputs": [],
   "source": [
    "budget_expenditure[['SOE_Code', 'SOE_Description']] = budget_expenditure['SoeCd'].str.split(r\"-\", expand=True, n=1)"
   ]
  },
  {
   "cell_type": "code",
   "execution_count": 33,
   "metadata": {},
   "outputs": [],
   "source": [
    "budget_expenditure.reset_index(inplace=True, drop = True)"
   ]
  },
  {
   "cell_type": "code",
   "execution_count": 34,
   "metadata": {},
   "outputs": [],
   "source": [
    "budget_expenditure.drop(['Majnm'], axis = 1, inplace = True)"
   ]
  },
  {
   "cell_type": "code",
   "execution_count": 35,
   "metadata": {},
   "outputs": [],
   "source": [
    "budget_expenditure.drop(['SoeCd'], axis = 1, inplace = True)"
   ]
  },
  {
   "cell_type": "code",
   "execution_count": 40,
   "metadata": {},
   "outputs": [],
   "source": [
    "date_rng = pd.date_range(start='06/01/2019', end='06/30/2019', freq='H')"
   ]
  },
  {
   "cell_type": "code",
   "execution_count": 50,
   "metadata": {},
   "outputs": [],
   "source": [
    "budget_expenditure['Date'] = date_rng[0]"
   ]
  },
  {
   "cell_type": "code",
   "execution_count": 51,
   "metadata": {},
   "outputs": [],
   "source": [
    "budget_expenditure =budget_expenditure[['Dmdcd','Major_Head_Code','Major_Head_Description', 'SOE_Code','SOE_Description','Date','SANCTION','ADDITION','SAVING','REVISED']]"
   ]
  },
  {
   "cell_type": "code",
   "execution_count": 53,
   "metadata": {},
   "outputs": [
    {
     "data": {
      "text/html": [
       "<div>\n",
       "<style scoped>\n",
       "    .dataframe tbody tr th:only-of-type {\n",
       "        vertical-align: middle;\n",
       "    }\n",
       "\n",
       "    .dataframe tbody tr th {\n",
       "        vertical-align: top;\n",
       "    }\n",
       "\n",
       "    .dataframe thead th {\n",
       "        text-align: right;\n",
       "    }\n",
       "</style>\n",
       "<table border=\"1\" class=\"dataframe\">\n",
       "  <thead>\n",
       "    <tr style=\"text-align: right;\">\n",
       "      <th></th>\n",
       "      <th>Dmdcd</th>\n",
       "      <th>Major_Head_Code</th>\n",
       "      <th>Major_Head_Description</th>\n",
       "      <th>SOE_Code</th>\n",
       "      <th>SOE_Description</th>\n",
       "      <th>Date</th>\n",
       "      <th>SANCTION</th>\n",
       "      <th>ADDITION</th>\n",
       "      <th>SAVING</th>\n",
       "      <th>REVISED</th>\n",
       "    </tr>\n",
       "  </thead>\n",
       "  <tbody>\n",
       "    <tr>\n",
       "      <th>0</th>\n",
       "      <td>01</td>\n",
       "      <td>2011</td>\n",
       "      <td>PARLIAMENT/STATE/U.T.LEGISLATU</td>\n",
       "      <td>01</td>\n",
       "      <td>SALARIES</td>\n",
       "      <td>2019-06-01</td>\n",
       "      <td>2889.00</td>\n",
       "      <td>0.0</td>\n",
       "      <td>0.0</td>\n",
       "      <td>2889.00</td>\n",
       "    </tr>\n",
       "    <tr>\n",
       "      <th>1</th>\n",
       "      <td>01</td>\n",
       "      <td>2011</td>\n",
       "      <td>PARLIAMENT/STATE/U.T.LEGISLATU</td>\n",
       "      <td>02</td>\n",
       "      <td>WAGES</td>\n",
       "      <td>2019-06-01</td>\n",
       "      <td>0.22</td>\n",
       "      <td>0.0</td>\n",
       "      <td>0.0</td>\n",
       "      <td>0.22</td>\n",
       "    </tr>\n",
       "    <tr>\n",
       "      <th>2</th>\n",
       "      <td>01</td>\n",
       "      <td>2011</td>\n",
       "      <td>PARLIAMENT/STATE/U.T.LEGISLATU</td>\n",
       "      <td>03</td>\n",
       "      <td>TRAVEL EXPENSES</td>\n",
       "      <td>2019-06-01</td>\n",
       "      <td>218.31</td>\n",
       "      <td>20.0</td>\n",
       "      <td>0.0</td>\n",
       "      <td>238.31</td>\n",
       "    </tr>\n",
       "    <tr>\n",
       "      <th>3</th>\n",
       "      <td>01</td>\n",
       "      <td>2011</td>\n",
       "      <td>PARLIAMENT/STATE/U.T.LEGISLATU</td>\n",
       "      <td>04</td>\n",
       "      <td>LIVERIES</td>\n",
       "      <td>2019-06-01</td>\n",
       "      <td>2.50</td>\n",
       "      <td>0.0</td>\n",
       "      <td>0.0</td>\n",
       "      <td>2.50</td>\n",
       "    </tr>\n",
       "    <tr>\n",
       "      <th>4</th>\n",
       "      <td>01</td>\n",
       "      <td>2011</td>\n",
       "      <td>PARLIAMENT/STATE/U.T.LEGISLATU</td>\n",
       "      <td>05</td>\n",
       "      <td>OFFICE EXPENSES</td>\n",
       "      <td>2019-06-01</td>\n",
       "      <td>92.43</td>\n",
       "      <td>0.0</td>\n",
       "      <td>0.0</td>\n",
       "      <td>92.43</td>\n",
       "    </tr>\n",
       "  </tbody>\n",
       "</table>\n",
       "</div>"
      ],
      "text/plain": [
       "  Dmdcd Major_Head_Code          Major_Head_Description SOE_Code  \\\n",
       "0    01            2011  PARLIAMENT/STATE/U.T.LEGISLATU       01   \n",
       "1    01            2011  PARLIAMENT/STATE/U.T.LEGISLATU       02   \n",
       "2    01            2011  PARLIAMENT/STATE/U.T.LEGISLATU       03   \n",
       "3    01            2011  PARLIAMENT/STATE/U.T.LEGISLATU       04   \n",
       "4    01            2011  PARLIAMENT/STATE/U.T.LEGISLATU       05   \n",
       "\n",
       "   SOE_Description       Date  SANCTION  ADDITION  SAVING  REVISED  \n",
       "0         SALARIES 2019-06-01   2889.00       0.0     0.0  2889.00  \n",
       "1            WAGES 2019-06-01      0.22       0.0     0.0     0.22  \n",
       "2  TRAVEL EXPENSES 2019-06-01    218.31      20.0     0.0   238.31  \n",
       "3         LIVERIES 2019-06-01      2.50       0.0     0.0     2.50  \n",
       "4  OFFICE EXPENSES 2019-06-01     92.43       0.0     0.0    92.43  "
      ]
     },
     "execution_count": 53,
     "metadata": {},
     "output_type": "execute_result"
    }
   ],
   "source": [
    "budget_expenditure.head()"
   ]
  },
  {
   "cell_type": "code",
   "execution_count": null,
   "metadata": {},
   "outputs": [],
   "source": []
  }
 ],
 "metadata": {
  "kernelspec": {
   "display_name": "Python 3",
   "language": "python",
   "name": "python3"
  },
  "language_info": {
   "codemirror_mode": {
    "name": "ipython",
    "version": 3
   },
   "file_extension": ".py",
   "mimetype": "text/x-python",
   "name": "python",
   "nbconvert_exporter": "python",
   "pygments_lexer": "ipython3",
   "version": "3.6.5"
  }
 },
 "nbformat": 4,
 "nbformat_minor": 2
}
