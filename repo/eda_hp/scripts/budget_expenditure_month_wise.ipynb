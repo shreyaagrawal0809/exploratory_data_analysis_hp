{
 "cells": [
  {
   "cell_type": "code",
   "execution_count": 47,
   "metadata": {},
   "outputs": [],
   "source": [
    "import pandas as pd\n",
    "import glob\n",
    "\n",
    "path = r'../datasets/prep_data/' # use your path\n",
    "budget_month_wise = glob.glob(path + \"/*.csv\")\n",
    "\n",
    "budget_expenditure_array = []\n",
    "\n",
    "for budget_filename in budget_month_wise:\n",
    "    budget_month_wise_df = pd.read_csv(budget_filename)\n",
    "    budget_expenditure_array.append(budget_month_wise_df)\n",
    "\n",
    "budget_expenditure_df = pd.concat(budget_expenditure_array, axis=0, ignore_index=True)\n"
   ]
  },
  {
   "cell_type": "code",
   "execution_count": 48,
   "metadata": {},
   "outputs": [],
   "source": [
    "budget_expenditure_df.to_csv('../datasets/prep_data/budget_expenditure_month_wise.csv', index = False)"
   ]
  },
  {
   "cell_type": "code",
   "execution_count": 20,
   "metadata": {},
   "outputs": [
    {
     "data": {
      "text/plain": [
       "Timestamp('2019-05-01 00:00:00')"
      ]
     },
     "execution_count": 20,
     "metadata": {},
     "output_type": "execute_result"
    }
   ],
   "source": [
    "budget_expenditure_df['Date'][0]"
   ]
  },
  {
   "cell_type": "code",
   "execution_count": 28,
   "metadata": {},
   "outputs": [],
   "source": [
    "budget_expenditure = pd.read_csv('../datasets/prep_data/budget_expenditure_may_june_daywise.csv')"
   ]
  },
  {
   "cell_type": "code",
   "execution_count": 33,
   "metadata": {},
   "outputs": [],
   "source": [
    "budget_expenditure['Date_Time'] =  pd.to_datetime(budget_expenditure_df['Date'])"
   ]
  },
  {
   "cell_type": "code",
   "execution_count": 39,
   "metadata": {},
   "outputs": [],
   "source": [
    "budget_expenditure.drop('Date', axis = 1, inplace = True)"
   ]
  },
  {
   "cell_type": "code",
   "execution_count": 40,
   "metadata": {},
   "outputs": [],
   "source": [
    "budget_expenditure.to_csv('../datasets/budget_expenditure_hp_june_may.csv', index = False)"
   ]
  },
  {
   "cell_type": "code",
   "execution_count": 41,
   "metadata": {},
   "outputs": [],
   "source": [
    "budget = pd.read_csv('../datasets/budget_expenditure_hp_june_may.csv')"
   ]
  },
  {
   "cell_type": "code",
   "execution_count": 42,
   "metadata": {},
   "outputs": [
    {
     "data": {
      "text/plain": [
       "0         2019-05-01\n",
       "1         2019-05-01\n",
       "2         2019-05-01\n",
       "3         2019-05-01\n",
       "4         2019-05-01\n",
       "             ...    \n",
       "390670    2019-06-30\n",
       "390671    2019-06-30\n",
       "390672    2019-06-30\n",
       "390673    2019-06-30\n",
       "390674    2019-06-30\n",
       "Name: Date_Time, Length: 390675, dtype: object"
      ]
     },
     "execution_count": 42,
     "metadata": {},
     "output_type": "execute_result"
    }
   ],
   "source": [
    "budget['Date_Time']"
   ]
  },
  {
   "cell_type": "code",
   "execution_count": null,
   "metadata": {},
   "outputs": [],
   "source": []
  }
 ],
 "metadata": {
  "kernelspec": {
   "display_name": "Python 3",
   "language": "python",
   "name": "python3"
  },
  "language_info": {
   "codemirror_mode": {
    "name": "ipython",
    "version": 3
   },
   "file_extension": ".py",
   "mimetype": "text/x-python",
   "name": "python",
   "nbconvert_exporter": "python",
   "pygments_lexer": "ipython3",
   "version": "3.6.5"
  }
 },
 "nbformat": 4,
 "nbformat_minor": 2
}
