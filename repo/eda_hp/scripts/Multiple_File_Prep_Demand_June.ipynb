{
 "cells": [
  {
   "cell_type": "code",
   "execution_count": 46,
   "metadata": {},
   "outputs": [],
   "source": [
    "import pandas as pd\n",
    "import numpy as np\n",
    "import glob"
   ]
  },
  {
   "cell_type": "code",
   "execution_count": 49,
   "metadata": {},
   "outputs": [],
   "source": [
    "budget_file_path = r'../datasets/june_budget_expenditures/' # use your path\n",
    "all_budget_files_path = glob.glob(budget_file_path + \"/*.csv\")\n",
    "all_budget_files_path.sort()\n",
    "date_rng = pd.date_range(start='06/01/2019', end='06/30/2019', freq='D')\n",
    "budget_file_array =  np.asarray(all_budget_files_path)\n",
    "filename_array = []\n",
    "for i in range(len(all_budget_files_path)):\n",
    "    filename_array.append(all_budget_files_path[i].split('/')[3])\n"
   ]
  },
  {
   "cell_type": "code",
   "execution_count": 50,
   "metadata": {},
   "outputs": [],
   "source": [
    "budget_expenditure_files = []\n",
    "for i in range(len(all_budget_files_path)):\n",
    "    budget_expenditure_df = pd.read_csv(all_budget_files_path[i])\n",
    "    budget_expenditure_df.replace(\" \", np.NaN, inplace = True)\n",
    "    budget_expenditure_df.fillna(method='ffill', inplace=True)\n",
    "    budget_expenditure_df = budget_expenditure_df[~budget_expenditure_df.Dmdcd.str.contains(\"Total\")]\n",
    "    budget_expenditure_df = budget_expenditure_df[~budget_expenditure_df.Majnm.str.contains(\"Total\")]\n",
    "    budget_expenditure_df = budget_expenditure_df[~budget_expenditure_df.SoeCd.str.contains(\"Total\")]\n",
    "    budget_expenditure_df[['Major_Head_Code', 'Major_Head_Description']] = budget_expenditure_df['Majnm'].str.split(r\"-\", expand=True, n=1)\n",
    "    budget_expenditure_df[['SOE_Code', 'SOE_Description']] = budget_expenditure_df['SoeCd'].str.split(r\"-\", expand=True, n=1)\n",
    "    budget_expenditure_df.reset_index(inplace=True, drop = True)\n",
    "    budget_expenditure_df.drop(['Majnm'], axis = 1, inplace = True)\n",
    "    budget_expenditure_df.drop(['SoeCd'], axis = 1, inplace = True)\n",
    "    budget_expenditure_df['Date'] = date_rng[i]\n",
    "    budget_expenditure_df['Month'] = 'June'\n",
    "    budget_expenditure_df =budget_expenditure_df[['Dmdcd',\n",
    "                                                  'Major_Head_Code',\n",
    "                                                  'Major_Head_Description',\n",
    "                                                  'SOE_Code',\n",
    "                                                  'SOE_Description',\n",
    "                                                  'Date',\n",
    "                                                  'Month',\n",
    "                                                  'SANCTION',\n",
    "                                                  'ADDITION',\n",
    "                                                  'SAVING',\n",
    "                                                  'REVISED']]\n",
    "    budget_expenditure_files.append(budget_expenditure_df)\n"
   ]
  },
  {
   "cell_type": "code",
   "execution_count": 39,
   "metadata": {},
   "outputs": [
    {
     "data": {
      "text/plain": [
       "[]"
      ]
     },
     "execution_count": 39,
     "metadata": {},
     "output_type": "execute_result"
    }
   ],
   "source": [
    "budget_expenditure_files"
   ]
  },
  {
   "cell_type": "code",
   "execution_count": 52,
   "metadata": {},
   "outputs": [],
   "source": [
    "budget_expenditure_total_df.to_csv('../datasets/prep_data/budget_expenditue_june.csv', index = False)"
   ]
  },
  {
   "cell_type": "code",
   "execution_count": null,
   "metadata": {},
   "outputs": [],
   "source": []
  }
 ],
 "metadata": {
  "kernelspec": {
   "display_name": "Python 3",
   "language": "python",
   "name": "python3"
  },
  "language_info": {
   "codemirror_mode": {
    "name": "ipython",
    "version": 3
   },
   "file_extension": ".py",
   "mimetype": "text/x-python",
   "name": "python",
   "nbconvert_exporter": "python",
   "pygments_lexer": "ipython3",
   "version": "3.6.5"
  }
 },
 "nbformat": 4,
 "nbformat_minor": 2
}
